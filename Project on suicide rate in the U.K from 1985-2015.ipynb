{
 "cells": [
  {
   "cell_type": "markdown",
   "metadata": {},
   "source": [
    "# Project on suicide rate in the U.K from 1985-2015"
   ]
  },
  {
   "cell_type": "code",
   "execution_count": 1,
   "metadata": {},
   "outputs": [],
   "source": [
    "from pathlib import Path\n",
    "import pandas as pd\n",
    "import numpy as np\n"
   ]
  },
  {
   "cell_type": "code",
   "execution_count": 2,
   "metadata": {},
   "outputs": [],
   "source": [
    "from matplotlib import pyplot as plt"
   ]
  },
  {
   "cell_type": "markdown",
   "metadata": {},
   "source": [
    "## Data Preparation and Cleaning\n",
    "1. Load file using Pandas\n",
    "2. Look at some information about the data and the columns\n",
    "3. Fix any missing or incorrect values"
   ]
  },
  {
   "cell_type": "code",
   "execution_count": 3,
   "metadata": {},
   "outputs": [],
   "source": [
    "master_csv = Path.home() / 'Desktop/master.csv'"
   ]
  },
  {
   "cell_type": "code",
   "execution_count": 4,
   "metadata": {},
   "outputs": [],
   "source": [
    "df = pd.read_csv(master_csv)"
   ]
  },
  {
   "cell_type": "code",
   "execution_count": 5,
   "metadata": {
    "collapsed": true
   },
   "outputs": [
    {
     "data": {
      "text/html": [
       "<div>\n",
       "<style scoped>\n",
       "    .dataframe tbody tr th:only-of-type {\n",
       "        vertical-align: middle;\n",
       "    }\n",
       "\n",
       "    .dataframe tbody tr th {\n",
       "        vertical-align: top;\n",
       "    }\n",
       "\n",
       "    .dataframe thead th {\n",
       "        text-align: right;\n",
       "    }\n",
       "</style>\n",
       "<table border=\"1\" class=\"dataframe\">\n",
       "  <thead>\n",
       "    <tr style=\"text-align: right;\">\n",
       "      <th></th>\n",
       "      <th>country</th>\n",
       "      <th>year</th>\n",
       "      <th>sex</th>\n",
       "      <th>age</th>\n",
       "      <th>suicides_no</th>\n",
       "      <th>population</th>\n",
       "      <th>Unnamed: 6</th>\n",
       "      <th>Unnamed: 7</th>\n",
       "      <th>Unnamed: 8</th>\n",
       "      <th>Unnamed: 9</th>\n",
       "      <th>Unnamed: 10</th>\n",
       "    </tr>\n",
       "  </thead>\n",
       "  <tbody>\n",
       "    <tr>\n",
       "      <th>0</th>\n",
       "      <td>Albania</td>\n",
       "      <td>1987</td>\n",
       "      <td>male</td>\n",
       "      <td>15-24 years</td>\n",
       "      <td>21</td>\n",
       "      <td>312,900</td>\n",
       "      <td>NaN</td>\n",
       "      <td>NaN</td>\n",
       "      <td>NaN</td>\n",
       "      <td>NaN</td>\n",
       "      <td>NaN</td>\n",
       "    </tr>\n",
       "    <tr>\n",
       "      <th>1</th>\n",
       "      <td>Albania</td>\n",
       "      <td>1987</td>\n",
       "      <td>male</td>\n",
       "      <td>35-54 years</td>\n",
       "      <td>16</td>\n",
       "      <td>308,000</td>\n",
       "      <td>NaN</td>\n",
       "      <td>NaN</td>\n",
       "      <td>Suicide per 100,000 population</td>\n",
       "      <td>Column Labels</td>\n",
       "      <td>NaN</td>\n",
       "    </tr>\n",
       "    <tr>\n",
       "      <th>2</th>\n",
       "      <td>Albania</td>\n",
       "      <td>1987</td>\n",
       "      <td>female</td>\n",
       "      <td>15-24 years</td>\n",
       "      <td>14</td>\n",
       "      <td>289,700</td>\n",
       "      <td>NaN</td>\n",
       "      <td>NaN</td>\n",
       "      <td>Country</td>\n",
       "      <td>female</td>\n",
       "      <td>male</td>\n",
       "    </tr>\n",
       "    <tr>\n",
       "      <th>3</th>\n",
       "      <td>Albania</td>\n",
       "      <td>1987</td>\n",
       "      <td>male</td>\n",
       "      <td>75+ years</td>\n",
       "      <td>1</td>\n",
       "      <td>21,800</td>\n",
       "      <td>NaN</td>\n",
       "      <td>NaN</td>\n",
       "      <td>1985</td>\n",
       "      <td>6.33</td>\n",
       "      <td>16.87</td>\n",
       "    </tr>\n",
       "    <tr>\n",
       "      <th>4</th>\n",
       "      <td>Albania</td>\n",
       "      <td>1987</td>\n",
       "      <td>male</td>\n",
       "      <td>25-34 years</td>\n",
       "      <td>9</td>\n",
       "      <td>274,300</td>\n",
       "      <td>NaN</td>\n",
       "      <td>NaN</td>\n",
       "      <td>1986</td>\n",
       "      <td>6.45</td>\n",
       "      <td>17.18</td>\n",
       "    </tr>\n",
       "    <tr>\n",
       "      <th>...</th>\n",
       "      <td>...</td>\n",
       "      <td>...</td>\n",
       "      <td>...</td>\n",
       "      <td>...</td>\n",
       "      <td>...</td>\n",
       "      <td>...</td>\n",
       "      <td>...</td>\n",
       "      <td>...</td>\n",
       "      <td>...</td>\n",
       "      <td>...</td>\n",
       "      <td>...</td>\n",
       "    </tr>\n",
       "    <tr>\n",
       "      <th>27815</th>\n",
       "      <td>Uzbekistan</td>\n",
       "      <td>2014</td>\n",
       "      <td>female</td>\n",
       "      <td>35-54 years</td>\n",
       "      <td>107</td>\n",
       "      <td>3,620,833</td>\n",
       "      <td>NaN</td>\n",
       "      <td>NaN</td>\n",
       "      <td>NaN</td>\n",
       "      <td>NaN</td>\n",
       "      <td>NaN</td>\n",
       "    </tr>\n",
       "    <tr>\n",
       "      <th>27816</th>\n",
       "      <td>Uzbekistan</td>\n",
       "      <td>2014</td>\n",
       "      <td>female</td>\n",
       "      <td>75+ years</td>\n",
       "      <td>9</td>\n",
       "      <td>348,465</td>\n",
       "      <td>NaN</td>\n",
       "      <td>NaN</td>\n",
       "      <td>NaN</td>\n",
       "      <td>NaN</td>\n",
       "      <td>NaN</td>\n",
       "    </tr>\n",
       "    <tr>\n",
       "      <th>27817</th>\n",
       "      <td>Uzbekistan</td>\n",
       "      <td>2014</td>\n",
       "      <td>male</td>\n",
       "      <td>5-14 years</td>\n",
       "      <td>60</td>\n",
       "      <td>2,762,158</td>\n",
       "      <td>NaN</td>\n",
       "      <td>NaN</td>\n",
       "      <td>NaN</td>\n",
       "      <td>NaN</td>\n",
       "      <td>NaN</td>\n",
       "    </tr>\n",
       "    <tr>\n",
       "      <th>27818</th>\n",
       "      <td>Uzbekistan</td>\n",
       "      <td>2014</td>\n",
       "      <td>female</td>\n",
       "      <td>5-14 years</td>\n",
       "      <td>44</td>\n",
       "      <td>2,631,600</td>\n",
       "      <td>NaN</td>\n",
       "      <td>NaN</td>\n",
       "      <td>NaN</td>\n",
       "      <td>NaN</td>\n",
       "      <td>NaN</td>\n",
       "    </tr>\n",
       "    <tr>\n",
       "      <th>27819</th>\n",
       "      <td>Uzbekistan</td>\n",
       "      <td>2014</td>\n",
       "      <td>female</td>\n",
       "      <td>55-74 years</td>\n",
       "      <td>21</td>\n",
       "      <td>1,438,935</td>\n",
       "      <td>NaN</td>\n",
       "      <td>NaN</td>\n",
       "      <td>NaN</td>\n",
       "      <td>NaN</td>\n",
       "      <td>NaN</td>\n",
       "    </tr>\n",
       "  </tbody>\n",
       "</table>\n",
       "<p>27820 rows × 11 columns</p>\n",
       "</div>"
      ],
      "text/plain": [
       "          country  year     sex          age  suicides_no population  \\\n",
       "0         Albania  1987    male  15-24 years           21    312,900   \n",
       "1         Albania  1987    male  35-54 years           16    308,000   \n",
       "2         Albania  1987  female  15-24 years           14    289,700   \n",
       "3         Albania  1987    male    75+ years            1     21,800   \n",
       "4         Albania  1987    male  25-34 years            9    274,300   \n",
       "...           ...   ...     ...          ...          ...        ...   \n",
       "27815  Uzbekistan  2014  female  35-54 years          107  3,620,833   \n",
       "27816  Uzbekistan  2014  female    75+ years            9    348,465   \n",
       "27817  Uzbekistan  2014    male   5-14 years           60  2,762,158   \n",
       "27818  Uzbekistan  2014  female   5-14 years           44  2,631,600   \n",
       "27819  Uzbekistan  2014  female  55-74 years           21  1,438,935   \n",
       "\n",
       "       Unnamed: 6  Unnamed: 7                       Unnamed: 8     Unnamed: 9  \\\n",
       "0             NaN         NaN                              NaN            NaN   \n",
       "1             NaN         NaN   Suicide per 100,000 population  Column Labels   \n",
       "2             NaN         NaN                          Country         female   \n",
       "3             NaN         NaN                             1985           6.33   \n",
       "4             NaN         NaN                             1986           6.45   \n",
       "...           ...         ...                              ...            ...   \n",
       "27815         NaN         NaN                              NaN            NaN   \n",
       "27816         NaN         NaN                              NaN            NaN   \n",
       "27817         NaN         NaN                              NaN            NaN   \n",
       "27818         NaN         NaN                              NaN            NaN   \n",
       "27819         NaN         NaN                              NaN            NaN   \n",
       "\n",
       "      Unnamed: 10  \n",
       "0             NaN  \n",
       "1             NaN  \n",
       "2            male  \n",
       "3           16.87  \n",
       "4           17.18  \n",
       "...           ...  \n",
       "27815         NaN  \n",
       "27816         NaN  \n",
       "27817         NaN  \n",
       "27818         NaN  \n",
       "27819         NaN  \n",
       "\n",
       "[27820 rows x 11 columns]"
      ]
     },
     "execution_count": 5,
     "metadata": {},
     "output_type": "execute_result"
    }
   ],
   "source": [
    "df"
   ]
  },
  {
   "cell_type": "code",
   "execution_count": 6,
   "metadata": {
    "collapsed": true
   },
   "outputs": [
    {
     "data": {
      "text/plain": [
       "country        False\n",
       "year           False\n",
       "sex            False\n",
       "age            False\n",
       "suicides_no    False\n",
       "population     False\n",
       "Unnamed: 6      True\n",
       "Unnamed: 7      True\n",
       "Unnamed: 8      True\n",
       "Unnamed: 9      True\n",
       "Unnamed: 10     True\n",
       "dtype: bool"
      ]
     },
     "execution_count": 6,
     "metadata": {},
     "output_type": "execute_result"
    }
   ],
   "source": [
    "# check if any of the rows in each column is empty(na)\n",
    "df.isna().any()"
   ]
  },
  {
   "cell_type": "code",
   "execution_count": 7,
   "metadata": {},
   "outputs": [],
   "source": [
    "# select the data that is needed for analysis\n",
    "model_df = df[['country', 'year', 'sex', 'age', 'suicides_no', 'population']]"
   ]
  },
  {
   "cell_type": "code",
   "execution_count": 8,
   "metadata": {
    "collapsed": true
   },
   "outputs": [
    {
     "data": {
      "text/html": [
       "<div>\n",
       "<style scoped>\n",
       "    .dataframe tbody tr th:only-of-type {\n",
       "        vertical-align: middle;\n",
       "    }\n",
       "\n",
       "    .dataframe tbody tr th {\n",
       "        vertical-align: top;\n",
       "    }\n",
       "\n",
       "    .dataframe thead th {\n",
       "        text-align: right;\n",
       "    }\n",
       "</style>\n",
       "<table border=\"1\" class=\"dataframe\">\n",
       "  <thead>\n",
       "    <tr style=\"text-align: right;\">\n",
       "      <th></th>\n",
       "      <th>country</th>\n",
       "      <th>year</th>\n",
       "      <th>sex</th>\n",
       "      <th>age</th>\n",
       "      <th>suicides_no</th>\n",
       "      <th>population</th>\n",
       "    </tr>\n",
       "  </thead>\n",
       "  <tbody>\n",
       "    <tr>\n",
       "      <th>0</th>\n",
       "      <td>Albania</td>\n",
       "      <td>1987</td>\n",
       "      <td>male</td>\n",
       "      <td>15-24 years</td>\n",
       "      <td>21</td>\n",
       "      <td>312,900</td>\n",
       "    </tr>\n",
       "    <tr>\n",
       "      <th>1</th>\n",
       "      <td>Albania</td>\n",
       "      <td>1987</td>\n",
       "      <td>male</td>\n",
       "      <td>35-54 years</td>\n",
       "      <td>16</td>\n",
       "      <td>308,000</td>\n",
       "    </tr>\n",
       "    <tr>\n",
       "      <th>2</th>\n",
       "      <td>Albania</td>\n",
       "      <td>1987</td>\n",
       "      <td>female</td>\n",
       "      <td>15-24 years</td>\n",
       "      <td>14</td>\n",
       "      <td>289,700</td>\n",
       "    </tr>\n",
       "    <tr>\n",
       "      <th>3</th>\n",
       "      <td>Albania</td>\n",
       "      <td>1987</td>\n",
       "      <td>male</td>\n",
       "      <td>75+ years</td>\n",
       "      <td>1</td>\n",
       "      <td>21,800</td>\n",
       "    </tr>\n",
       "    <tr>\n",
       "      <th>4</th>\n",
       "      <td>Albania</td>\n",
       "      <td>1987</td>\n",
       "      <td>male</td>\n",
       "      <td>25-34 years</td>\n",
       "      <td>9</td>\n",
       "      <td>274,300</td>\n",
       "    </tr>\n",
       "    <tr>\n",
       "      <th>...</th>\n",
       "      <td>...</td>\n",
       "      <td>...</td>\n",
       "      <td>...</td>\n",
       "      <td>...</td>\n",
       "      <td>...</td>\n",
       "      <td>...</td>\n",
       "    </tr>\n",
       "    <tr>\n",
       "      <th>27815</th>\n",
       "      <td>Uzbekistan</td>\n",
       "      <td>2014</td>\n",
       "      <td>female</td>\n",
       "      <td>35-54 years</td>\n",
       "      <td>107</td>\n",
       "      <td>3,620,833</td>\n",
       "    </tr>\n",
       "    <tr>\n",
       "      <th>27816</th>\n",
       "      <td>Uzbekistan</td>\n",
       "      <td>2014</td>\n",
       "      <td>female</td>\n",
       "      <td>75+ years</td>\n",
       "      <td>9</td>\n",
       "      <td>348,465</td>\n",
       "    </tr>\n",
       "    <tr>\n",
       "      <th>27817</th>\n",
       "      <td>Uzbekistan</td>\n",
       "      <td>2014</td>\n",
       "      <td>male</td>\n",
       "      <td>5-14 years</td>\n",
       "      <td>60</td>\n",
       "      <td>2,762,158</td>\n",
       "    </tr>\n",
       "    <tr>\n",
       "      <th>27818</th>\n",
       "      <td>Uzbekistan</td>\n",
       "      <td>2014</td>\n",
       "      <td>female</td>\n",
       "      <td>5-14 years</td>\n",
       "      <td>44</td>\n",
       "      <td>2,631,600</td>\n",
       "    </tr>\n",
       "    <tr>\n",
       "      <th>27819</th>\n",
       "      <td>Uzbekistan</td>\n",
       "      <td>2014</td>\n",
       "      <td>female</td>\n",
       "      <td>55-74 years</td>\n",
       "      <td>21</td>\n",
       "      <td>1,438,935</td>\n",
       "    </tr>\n",
       "  </tbody>\n",
       "</table>\n",
       "<p>27820 rows × 6 columns</p>\n",
       "</div>"
      ],
      "text/plain": [
       "          country  year     sex          age  suicides_no population\n",
       "0         Albania  1987    male  15-24 years           21    312,900\n",
       "1         Albania  1987    male  35-54 years           16    308,000\n",
       "2         Albania  1987  female  15-24 years           14    289,700\n",
       "3         Albania  1987    male    75+ years            1     21,800\n",
       "4         Albania  1987    male  25-34 years            9    274,300\n",
       "...           ...   ...     ...          ...          ...        ...\n",
       "27815  Uzbekistan  2014  female  35-54 years          107  3,620,833\n",
       "27816  Uzbekistan  2014  female    75+ years            9    348,465\n",
       "27817  Uzbekistan  2014    male   5-14 years           60  2,762,158\n",
       "27818  Uzbekistan  2014  female   5-14 years           44  2,631,600\n",
       "27819  Uzbekistan  2014  female  55-74 years           21  1,438,935\n",
       "\n",
       "[27820 rows x 6 columns]"
      ]
     },
     "execution_count": 8,
     "metadata": {},
     "output_type": "execute_result"
    }
   ],
   "source": [
    "model_df"
   ]
  },
  {
   "cell_type": "markdown",
   "metadata": {},
   "source": [
    "### U.K Data Analysis"
   ]
  },
  {
   "cell_type": "code",
   "execution_count": 9,
   "metadata": {
    "scrolled": true
   },
   "outputs": [],
   "source": [
    "# filter out the data needed for project analysis\n",
    "filt = model_df['country'] == 'United Kingdom'"
   ]
  },
  {
   "cell_type": "code",
   "execution_count": 10,
   "metadata": {
    "collapsed": true
   },
   "outputs": [
    {
     "data": {
      "text/html": [
       "<div>\n",
       "<style scoped>\n",
       "    .dataframe tbody tr th:only-of-type {\n",
       "        vertical-align: middle;\n",
       "    }\n",
       "\n",
       "    .dataframe tbody tr th {\n",
       "        vertical-align: top;\n",
       "    }\n",
       "\n",
       "    .dataframe thead th {\n",
       "        text-align: right;\n",
       "    }\n",
       "</style>\n",
       "<table border=\"1\" class=\"dataframe\">\n",
       "  <thead>\n",
       "    <tr style=\"text-align: right;\">\n",
       "      <th></th>\n",
       "      <th>country</th>\n",
       "      <th>year</th>\n",
       "      <th>sex</th>\n",
       "      <th>age</th>\n",
       "      <th>suicides_no</th>\n",
       "      <th>population</th>\n",
       "    </tr>\n",
       "  </thead>\n",
       "  <tbody>\n",
       "    <tr>\n",
       "      <th>26476</th>\n",
       "      <td>United Kingdom</td>\n",
       "      <td>1985</td>\n",
       "      <td>male</td>\n",
       "      <td>75+ years</td>\n",
       "      <td>264</td>\n",
       "      <td>1,202,838</td>\n",
       "    </tr>\n",
       "    <tr>\n",
       "      <th>26477</th>\n",
       "      <td>United Kingdom</td>\n",
       "      <td>1985</td>\n",
       "      <td>male</td>\n",
       "      <td>55-74 years</td>\n",
       "      <td>915</td>\n",
       "      <td>5,170,113</td>\n",
       "    </tr>\n",
       "    <tr>\n",
       "      <th>26478</th>\n",
       "      <td>United Kingdom</td>\n",
       "      <td>1985</td>\n",
       "      <td>male</td>\n",
       "      <td>35-54 years</td>\n",
       "      <td>1208</td>\n",
       "      <td>6,899,879</td>\n",
       "    </tr>\n",
       "    <tr>\n",
       "      <th>26479</th>\n",
       "      <td>United Kingdom</td>\n",
       "      <td>1985</td>\n",
       "      <td>male</td>\n",
       "      <td>25-34 years</td>\n",
       "      <td>620</td>\n",
       "      <td>3,969,689</td>\n",
       "    </tr>\n",
       "    <tr>\n",
       "      <th>26480</th>\n",
       "      <td>United Kingdom</td>\n",
       "      <td>1985</td>\n",
       "      <td>female</td>\n",
       "      <td>55-74 years</td>\n",
       "      <td>678</td>\n",
       "      <td>6,002,096</td>\n",
       "    </tr>\n",
       "    <tr>\n",
       "      <th>...</th>\n",
       "      <td>...</td>\n",
       "      <td>...</td>\n",
       "      <td>...</td>\n",
       "      <td>...</td>\n",
       "      <td>...</td>\n",
       "      <td>...</td>\n",
       "    </tr>\n",
       "    <tr>\n",
       "      <th>26843</th>\n",
       "      <td>United Kingdom</td>\n",
       "      <td>2015</td>\n",
       "      <td>female</td>\n",
       "      <td>25-34 years</td>\n",
       "      <td>181</td>\n",
       "      <td>4,414,464</td>\n",
       "    </tr>\n",
       "    <tr>\n",
       "      <th>26844</th>\n",
       "      <td>United Kingdom</td>\n",
       "      <td>2015</td>\n",
       "      <td>female</td>\n",
       "      <td>75+ years</td>\n",
       "      <td>108</td>\n",
       "      <td>3,070,457</td>\n",
       "    </tr>\n",
       "    <tr>\n",
       "      <th>26845</th>\n",
       "      <td>United Kingdom</td>\n",
       "      <td>2015</td>\n",
       "      <td>female</td>\n",
       "      <td>15-24 years</td>\n",
       "      <td>104</td>\n",
       "      <td>3,966,564</td>\n",
       "    </tr>\n",
       "    <tr>\n",
       "      <th>26846</th>\n",
       "      <td>United Kingdom</td>\n",
       "      <td>2015</td>\n",
       "      <td>female</td>\n",
       "      <td>5-14 years</td>\n",
       "      <td>6</td>\n",
       "      <td>3,663,221</td>\n",
       "    </tr>\n",
       "    <tr>\n",
       "      <th>26847</th>\n",
       "      <td>United Kingdom</td>\n",
       "      <td>2015</td>\n",
       "      <td>male</td>\n",
       "      <td>5-14 years</td>\n",
       "      <td>4</td>\n",
       "      <td>3,840,476</td>\n",
       "    </tr>\n",
       "  </tbody>\n",
       "</table>\n",
       "<p>372 rows × 6 columns</p>\n",
       "</div>"
      ],
      "text/plain": [
       "              country  year     sex          age  suicides_no population\n",
       "26476  United Kingdom  1985    male    75+ years          264  1,202,838\n",
       "26477  United Kingdom  1985    male  55-74 years          915  5,170,113\n",
       "26478  United Kingdom  1985    male  35-54 years         1208  6,899,879\n",
       "26479  United Kingdom  1985    male  25-34 years          620  3,969,689\n",
       "26480  United Kingdom  1985  female  55-74 years          678  6,002,096\n",
       "...               ...   ...     ...          ...          ...        ...\n",
       "26843  United Kingdom  2015  female  25-34 years          181  4,414,464\n",
       "26844  United Kingdom  2015  female    75+ years          108  3,070,457\n",
       "26845  United Kingdom  2015  female  15-24 years          104  3,966,564\n",
       "26846  United Kingdom  2015  female   5-14 years            6  3,663,221\n",
       "26847  United Kingdom  2015    male   5-14 years            4  3,840,476\n",
       "\n",
       "[372 rows x 6 columns]"
      ]
     },
     "execution_count": 10,
     "metadata": {},
     "output_type": "execute_result"
    }
   ],
   "source": [
    "uk_df = model_df[filt]\n",
    "uk_df"
   ]
  },
  {
   "cell_type": "code",
   "execution_count": 11,
   "metadata": {
    "collapsed": true
   },
   "outputs": [
    {
     "data": {
      "text/plain": [
       "country        object\n",
       "year            int64\n",
       "sex            object\n",
       "age            object\n",
       "suicides_no     int64\n",
       "population     object\n",
       "dtype: object"
      ]
     },
     "execution_count": 11,
     "metadata": {},
     "output_type": "execute_result"
    }
   ],
   "source": [
    "# check if the values are of the necessary datatypes\n",
    "\n",
    "uk_df.dtypes"
   ]
  },
  {
   "cell_type": "code",
   "execution_count": 12,
   "metadata": {
    "collapsed": true
   },
   "outputs": [
    {
     "name": "stderr",
     "output_type": "stream",
     "text": [
      "C:\\Users\\ATIMAH\\anaconda3\\lib\\site-packages\\pandas\\core\\indexing.py:965: SettingWithCopyWarning: \n",
      "A value is trying to be set on a copy of a slice from a DataFrame.\n",
      "Try using .loc[row_indexer,col_indexer] = value instead\n",
      "\n",
      "See the caveats in the documentation: https://pandas.pydata.org/pandas-docs/stable/user_guide/indexing.html#returning-a-view-versus-a-copy\n",
      "  self.obj[item] = s\n"
     ]
    }
   ],
   "source": [
    "# converting the object into a format that can be converted to a numerical datatype\n",
    "\n",
    "pop_contain_comma = uk_df['population'].str.contains(',')\n",
    "uk_df.loc[ : , 'population'] = np.where(pop_contain_comma, uk_df['population'].str.replace(',', ''), uk_df['population'])"
   ]
  },
  {
   "cell_type": "code",
   "execution_count": 13,
   "metadata": {
    "scrolled": false
   },
   "outputs": [],
   "source": [
    "# converting the datatype \n",
    "\n",
    "uk_df.loc[ : , 'population'] = uk_df['population'].astype(int)"
   ]
  },
  {
   "cell_type": "code",
   "execution_count": 14,
   "metadata": {
    "collapsed": true
   },
   "outputs": [
    {
     "name": "stderr",
     "output_type": "stream",
     "text": [
      "C:\\Users\\ATIMAH\\anaconda3\\lib\\site-packages\\ipykernel_launcher.py:1: SettingWithCopyWarning: \n",
      "A value is trying to be set on a copy of a slice from a DataFrame.\n",
      "Try using .loc[row_indexer,col_indexer] = value instead\n",
      "\n",
      "See the caveats in the documentation: https://pandas.pydata.org/pandas-docs/stable/user_guide/indexing.html#returning-a-view-versus-a-copy\n",
      "  \"\"\"Entry point for launching an IPython kernel.\n"
     ]
    }
   ],
   "source": [
    "uk_df['suicide_per_100,000_population'] = (uk_df['suicides_no']/uk_df['population']) * 100000"
   ]
  },
  {
   "cell_type": "code",
   "execution_count": 15,
   "metadata": {
    "scrolled": false
   },
   "outputs": [],
   "source": [
    "uk_df.loc[:, ['suicide_per_100,000_population']] = uk_df['suicide_per_100,000_population'].round()"
   ]
  },
  {
   "cell_type": "markdown",
   "metadata": {},
   "source": [
    "## Exploratory Analysis & visualization using matplotlib\n",
    "1. Get the clean data you need for analysis\n",
    "2. Explore the data for insights by filtering, grouping, concatenating or using whatever technique that helps the process\n",
    "3. Visualize your results"
   ]
  },
  {
   "cell_type": "markdown",
   "metadata": {},
   "source": [
    "### U.K suicide rate from 1985-2015 by sex"
   ]
  },
  {
   "cell_type": "code",
   "execution_count": 16,
   "metadata": {
    "collapsed": true
   },
   "outputs": [
    {
     "data": {
      "text/html": [
       "<div>\n",
       "<style scoped>\n",
       "    .dataframe tbody tr th:only-of-type {\n",
       "        vertical-align: middle;\n",
       "    }\n",
       "\n",
       "    .dataframe tbody tr th {\n",
       "        vertical-align: top;\n",
       "    }\n",
       "\n",
       "    .dataframe thead th {\n",
       "        text-align: right;\n",
       "    }\n",
       "</style>\n",
       "<table border=\"1\" class=\"dataframe\">\n",
       "  <thead>\n",
       "    <tr style=\"text-align: right;\">\n",
       "      <th></th>\n",
       "      <th>country</th>\n",
       "      <th>year</th>\n",
       "      <th>sex</th>\n",
       "      <th>age</th>\n",
       "      <th>suicides_no</th>\n",
       "      <th>population</th>\n",
       "      <th>suicide_per_100,000_population</th>\n",
       "    </tr>\n",
       "  </thead>\n",
       "  <tbody>\n",
       "    <tr>\n",
       "      <th>26476</th>\n",
       "      <td>United Kingdom</td>\n",
       "      <td>1985</td>\n",
       "      <td>male</td>\n",
       "      <td>75+ years</td>\n",
       "      <td>264</td>\n",
       "      <td>1202838</td>\n",
       "      <td>22.0</td>\n",
       "    </tr>\n",
       "    <tr>\n",
       "      <th>26477</th>\n",
       "      <td>United Kingdom</td>\n",
       "      <td>1985</td>\n",
       "      <td>male</td>\n",
       "      <td>55-74 years</td>\n",
       "      <td>915</td>\n",
       "      <td>5170113</td>\n",
       "      <td>18.0</td>\n",
       "    </tr>\n",
       "    <tr>\n",
       "      <th>26478</th>\n",
       "      <td>United Kingdom</td>\n",
       "      <td>1985</td>\n",
       "      <td>male</td>\n",
       "      <td>35-54 years</td>\n",
       "      <td>1208</td>\n",
       "      <td>6899879</td>\n",
       "      <td>18.0</td>\n",
       "    </tr>\n",
       "    <tr>\n",
       "      <th>26479</th>\n",
       "      <td>United Kingdom</td>\n",
       "      <td>1985</td>\n",
       "      <td>male</td>\n",
       "      <td>25-34 years</td>\n",
       "      <td>620</td>\n",
       "      <td>3969689</td>\n",
       "      <td>16.0</td>\n",
       "    </tr>\n",
       "    <tr>\n",
       "      <th>26480</th>\n",
       "      <td>United Kingdom</td>\n",
       "      <td>1985</td>\n",
       "      <td>female</td>\n",
       "      <td>55-74 years</td>\n",
       "      <td>678</td>\n",
       "      <td>6002096</td>\n",
       "      <td>11.0</td>\n",
       "    </tr>\n",
       "    <tr>\n",
       "      <th>...</th>\n",
       "      <td>...</td>\n",
       "      <td>...</td>\n",
       "      <td>...</td>\n",
       "      <td>...</td>\n",
       "      <td>...</td>\n",
       "      <td>...</td>\n",
       "      <td>...</td>\n",
       "    </tr>\n",
       "    <tr>\n",
       "      <th>26843</th>\n",
       "      <td>United Kingdom</td>\n",
       "      <td>2015</td>\n",
       "      <td>female</td>\n",
       "      <td>25-34 years</td>\n",
       "      <td>181</td>\n",
       "      <td>4414464</td>\n",
       "      <td>4.0</td>\n",
       "    </tr>\n",
       "    <tr>\n",
       "      <th>26844</th>\n",
       "      <td>United Kingdom</td>\n",
       "      <td>2015</td>\n",
       "      <td>female</td>\n",
       "      <td>75+ years</td>\n",
       "      <td>108</td>\n",
       "      <td>3070457</td>\n",
       "      <td>4.0</td>\n",
       "    </tr>\n",
       "    <tr>\n",
       "      <th>26845</th>\n",
       "      <td>United Kingdom</td>\n",
       "      <td>2015</td>\n",
       "      <td>female</td>\n",
       "      <td>15-24 years</td>\n",
       "      <td>104</td>\n",
       "      <td>3966564</td>\n",
       "      <td>3.0</td>\n",
       "    </tr>\n",
       "    <tr>\n",
       "      <th>26846</th>\n",
       "      <td>United Kingdom</td>\n",
       "      <td>2015</td>\n",
       "      <td>female</td>\n",
       "      <td>5-14 years</td>\n",
       "      <td>6</td>\n",
       "      <td>3663221</td>\n",
       "      <td>0.0</td>\n",
       "    </tr>\n",
       "    <tr>\n",
       "      <th>26847</th>\n",
       "      <td>United Kingdom</td>\n",
       "      <td>2015</td>\n",
       "      <td>male</td>\n",
       "      <td>5-14 years</td>\n",
       "      <td>4</td>\n",
       "      <td>3840476</td>\n",
       "      <td>0.0</td>\n",
       "    </tr>\n",
       "  </tbody>\n",
       "</table>\n",
       "<p>372 rows × 7 columns</p>\n",
       "</div>"
      ],
      "text/plain": [
       "              country  year     sex          age  suicides_no  population  \\\n",
       "26476  United Kingdom  1985    male    75+ years          264     1202838   \n",
       "26477  United Kingdom  1985    male  55-74 years          915     5170113   \n",
       "26478  United Kingdom  1985    male  35-54 years         1208     6899879   \n",
       "26479  United Kingdom  1985    male  25-34 years          620     3969689   \n",
       "26480  United Kingdom  1985  female  55-74 years          678     6002096   \n",
       "...               ...   ...     ...          ...          ...         ...   \n",
       "26843  United Kingdom  2015  female  25-34 years          181     4414464   \n",
       "26844  United Kingdom  2015  female    75+ years          108     3070457   \n",
       "26845  United Kingdom  2015  female  15-24 years          104     3966564   \n",
       "26846  United Kingdom  2015  female   5-14 years            6     3663221   \n",
       "26847  United Kingdom  2015    male   5-14 years            4     3840476   \n",
       "\n",
       "       suicide_per_100,000_population  \n",
       "26476                            22.0  \n",
       "26477                            18.0  \n",
       "26478                            18.0  \n",
       "26479                            16.0  \n",
       "26480                            11.0  \n",
       "...                               ...  \n",
       "26843                             4.0  \n",
       "26844                             4.0  \n",
       "26845                             3.0  \n",
       "26846                             0.0  \n",
       "26847                             0.0  \n",
       "\n",
       "[372 rows x 7 columns]"
      ]
     },
     "execution_count": 16,
     "metadata": {},
     "output_type": "execute_result"
    }
   ],
   "source": [
    "uk_df"
   ]
  },
  {
   "cell_type": "code",
   "execution_count": 17,
   "metadata": {},
   "outputs": [],
   "source": [
    "# get the male data and then find the (suicide per 100,000 population) for each year\n",
    "filt = uk_df['sex'] == 'male'\n",
    "male_sex = uk_df[filt]\n",
    "\n",
    "male_grp = male_sex.groupby('year')['suicide_per_100,000_population'].sum()\n",
    "\n",
    "male_grp = male_grp.rename('Male')"
   ]
  },
  {
   "cell_type": "code",
   "execution_count": 18,
   "metadata": {},
   "outputs": [],
   "source": [
    "# get the female data and then find the (suicide per 100,000 population) for each year\n",
    "filt = uk_df['sex'] == 'female'\n",
    "female_sex = uk_df[filt]\n",
    "\n",
    "female_grp = female_sex.groupby('year')['suicide_per_100,000_population'].sum()\n",
    "\n",
    "female_grp = female_grp.rename('Female')"
   ]
  },
  {
   "cell_type": "code",
   "execution_count": 19,
   "metadata": {
    "scrolled": true
   },
   "outputs": [],
   "source": [
    "# x-axis\n",
    "# any index from either the male or the female data can be used since they both contain same values for the x-axis\n",
    "year_x = list(male_grp.index)"
   ]
  },
  {
   "cell_type": "code",
   "execution_count": 20,
   "metadata": {
    "scrolled": true
   },
   "outputs": [],
   "source": [
    "# y-axis\n",
    "male_y = list(male_grp)\n",
    "\n",
    "female_y = list(female_grp)"
   ]
  },
  {
   "cell_type": "code",
   "execution_count": 21,
   "metadata": {
    "scrolled": false
   },
   "outputs": [
    {
     "data": {
      "image/png": "[encoded data removed]",
      "text/plain": [
       "<Figure size 576x396 with 1 Axes>"
      ]
     },
     "metadata": {},
     "output_type": "display_data"
    }
   ],
   "source": [
    "# visualization of data\n",
    "plt.style.use('seaborn')\n",
    "\n",
    "plt.plot(year_x, male_y, label='Male')\n",
    "plt.plot(year_x, female_y, label='Female')\n",
    "\n",
    "plt.title('U.K suicide rate by sex per 100,000 population', fontdict= {'fontsize': 20,\n",
    "            'fontweight' : 10,\n",
    "            'verticalalignment': 'baseline',\n",
    "            'horizontalalignment': 'center'})\n",
    "plt.ylabel('suicide', fontdict= {'fontsize': 17,\n",
    "            'fontweight' : 10,\n",
    "            'verticalalignment': 'baseline',\n",
    "            'horizontalalignment': 'center'})\n",
    "plt.legend()\n",
    "\n",
    "plt.show()"
   ]
  },
  {
   "cell_type": "markdown",
   "metadata": {},
   "source": [
    "### U.K population from 1985-2015 by sex"
   ]
  },
  {
   "cell_type": "code",
   "execution_count": 22,
   "metadata": {
    "collapsed": true
   },
   "outputs": [
    {
     "data": {
      "text/html": [
       "<div>\n",
       "<style scoped>\n",
       "    .dataframe tbody tr th:only-of-type {\n",
       "        vertical-align: middle;\n",
       "    }\n",
       "\n",
       "    .dataframe tbody tr th {\n",
       "        vertical-align: top;\n",
       "    }\n",
       "\n",
       "    .dataframe thead th {\n",
       "        text-align: right;\n",
       "    }\n",
       "</style>\n",
       "<table border=\"1\" class=\"dataframe\">\n",
       "  <thead>\n",
       "    <tr style=\"text-align: right;\">\n",
       "      <th></th>\n",
       "      <th>country</th>\n",
       "      <th>year</th>\n",
       "      <th>sex</th>\n",
       "      <th>age</th>\n",
       "      <th>suicides_no</th>\n",
       "      <th>population</th>\n",
       "      <th>suicide_per_100,000_population</th>\n",
       "    </tr>\n",
       "  </thead>\n",
       "  <tbody>\n",
       "    <tr>\n",
       "      <th>26476</th>\n",
       "      <td>United Kingdom</td>\n",
       "      <td>1985</td>\n",
       "      <td>male</td>\n",
       "      <td>75+ years</td>\n",
       "      <td>264</td>\n",
       "      <td>1202838</td>\n",
       "      <td>22.0</td>\n",
       "    </tr>\n",
       "    <tr>\n",
       "      <th>26477</th>\n",
       "      <td>United Kingdom</td>\n",
       "      <td>1985</td>\n",
       "      <td>male</td>\n",
       "      <td>55-74 years</td>\n",
       "      <td>915</td>\n",
       "      <td>5170113</td>\n",
       "      <td>18.0</td>\n",
       "    </tr>\n",
       "    <tr>\n",
       "      <th>26478</th>\n",
       "      <td>United Kingdom</td>\n",
       "      <td>1985</td>\n",
       "      <td>male</td>\n",
       "      <td>35-54 years</td>\n",
       "      <td>1208</td>\n",
       "      <td>6899879</td>\n",
       "      <td>18.0</td>\n",
       "    </tr>\n",
       "    <tr>\n",
       "      <th>26479</th>\n",
       "      <td>United Kingdom</td>\n",
       "      <td>1985</td>\n",
       "      <td>male</td>\n",
       "      <td>25-34 years</td>\n",
       "      <td>620</td>\n",
       "      <td>3969689</td>\n",
       "      <td>16.0</td>\n",
       "    </tr>\n",
       "    <tr>\n",
       "      <th>26480</th>\n",
       "      <td>United Kingdom</td>\n",
       "      <td>1985</td>\n",
       "      <td>female</td>\n",
       "      <td>55-74 years</td>\n",
       "      <td>678</td>\n",
       "      <td>6002096</td>\n",
       "      <td>11.0</td>\n",
       "    </tr>\n",
       "    <tr>\n",
       "      <th>...</th>\n",
       "      <td>...</td>\n",
       "      <td>...</td>\n",
       "      <td>...</td>\n",
       "      <td>...</td>\n",
       "      <td>...</td>\n",
       "      <td>...</td>\n",
       "      <td>...</td>\n",
       "    </tr>\n",
       "    <tr>\n",
       "      <th>26843</th>\n",
       "      <td>United Kingdom</td>\n",
       "      <td>2015</td>\n",
       "      <td>female</td>\n",
       "      <td>25-34 years</td>\n",
       "      <td>181</td>\n",
       "      <td>4414464</td>\n",
       "      <td>4.0</td>\n",
       "    </tr>\n",
       "    <tr>\n",
       "      <th>26844</th>\n",
       "      <td>United Kingdom</td>\n",
       "      <td>2015</td>\n",
       "      <td>female</td>\n",
       "      <td>75+ years</td>\n",
       "      <td>108</td>\n",
       "      <td>3070457</td>\n",
       "      <td>4.0</td>\n",
       "    </tr>\n",
       "    <tr>\n",
       "      <th>26845</th>\n",
       "      <td>United Kingdom</td>\n",
       "      <td>2015</td>\n",
       "      <td>female</td>\n",
       "      <td>15-24 years</td>\n",
       "      <td>104</td>\n",
       "      <td>3966564</td>\n",
       "      <td>3.0</td>\n",
       "    </tr>\n",
       "    <tr>\n",
       "      <th>26846</th>\n",
       "      <td>United Kingdom</td>\n",
       "      <td>2015</td>\n",
       "      <td>female</td>\n",
       "      <td>5-14 years</td>\n",
       "      <td>6</td>\n",
       "      <td>3663221</td>\n",
       "      <td>0.0</td>\n",
       "    </tr>\n",
       "    <tr>\n",
       "      <th>26847</th>\n",
       "      <td>United Kingdom</td>\n",
       "      <td>2015</td>\n",
       "      <td>male</td>\n",
       "      <td>5-14 years</td>\n",
       "      <td>4</td>\n",
       "      <td>3840476</td>\n",
       "      <td>0.0</td>\n",
       "    </tr>\n",
       "  </tbody>\n",
       "</table>\n",
       "<p>372 rows × 7 columns</p>\n",
       "</div>"
      ],
      "text/plain": [
       "              country  year     sex          age  suicides_no  population  \\\n",
       "26476  United Kingdom  1985    male    75+ years          264     1202838   \n",
       "26477  United Kingdom  1985    male  55-74 years          915     5170113   \n",
       "26478  United Kingdom  1985    male  35-54 years         1208     6899879   \n",
       "26479  United Kingdom  1985    male  25-34 years          620     3969689   \n",
       "26480  United Kingdom  1985  female  55-74 years          678     6002096   \n",
       "...               ...   ...     ...          ...          ...         ...   \n",
       "26843  United Kingdom  2015  female  25-34 years          181     4414464   \n",
       "26844  United Kingdom  2015  female    75+ years          108     3070457   \n",
       "26845  United Kingdom  2015  female  15-24 years          104     3966564   \n",
       "26846  United Kingdom  2015  female   5-14 years            6     3663221   \n",
       "26847  United Kingdom  2015    male   5-14 years            4     3840476   \n",
       "\n",
       "       suicide_per_100,000_population  \n",
       "26476                            22.0  \n",
       "26477                            18.0  \n",
       "26478                            18.0  \n",
       "26479                            16.0  \n",
       "26480                            11.0  \n",
       "...                               ...  \n",
       "26843                             4.0  \n",
       "26844                             4.0  \n",
       "26845                             3.0  \n",
       "26846                             0.0  \n",
       "26847                             0.0  \n",
       "\n",
       "[372 rows x 7 columns]"
      ]
     },
     "execution_count": 22,
     "metadata": {},
     "output_type": "execute_result"
    }
   ],
   "source": [
    "uk_df"
   ]
  },
  {
   "cell_type": "code",
   "execution_count": 23,
   "metadata": {},
   "outputs": [],
   "source": [
    "# get the male data and then find the (population) for each year\n",
    "filt = uk_df['sex'] == 'male'\n",
    "male_sex = uk_df[filt]\n",
    "\n",
    "male_grp = male_sex.groupby('year')['population'].sum()\n",
    "\n",
    "male_grp = male_grp.rename('Male')"
   ]
  },
  {
   "cell_type": "code",
   "execution_count": 24,
   "metadata": {},
   "outputs": [],
   "source": [
    "# get the female data and then find the (population) for each year\n",
    "filt = uk_df['sex'] == 'female'\n",
    "female_sex = uk_df[filt]\n",
    "\n",
    "female_grp = female_sex.groupby('year')['population'].sum()\n",
    "\n",
    "female_grp = female_grp.rename('Female')"
   ]
  },
  {
   "cell_type": "code",
   "execution_count": 25,
   "metadata": {},
   "outputs": [],
   "source": [
    "# x-axis\n",
    "# any index from either the male or the female data can be used since they both contain same values for the x-axis\n",
    "year_x = list(male_grp.index)"
   ]
  },
  {
   "cell_type": "code",
   "execution_count": 26,
   "metadata": {},
   "outputs": [],
   "source": [
    "# y-axis\n",
    "male_y = list(male_grp)\n",
    "\n",
    "female_y = list(female_grp)"
   ]
  },
  {
   "cell_type": "code",
   "execution_count": 32,
   "metadata": {},
   "outputs": [
    {
     "data": {
      "image/png": "[encoded data removed]",
      "text/plain": [
       "<Figure size 576x396 with 1 Axes>"
      ]
     },
     "metadata": {},
     "output_type": "display_data"
    }
   ],
   "source": [
    "# visualization of data\n",
    "plt.style.use('fivethirtyeight')\n",
    "\n",
    "plt.plot(year_x, male_y, label='Male')\n",
    "plt.plot(year_x, female_y, label='Female')\n",
    "\n",
    "plt.title('U.K population by sex')\n",
    "plt.ylabel('population (in ten millions)')\n",
    "plt.legend(loc='best', bbox_to_anchor=(0.5, 0., 0.7, 1.0))\n",
    "\n",
    "plt.show()"
   ]
  },
  {
   "cell_type": "markdown",
   "metadata": {},
   "source": [
    "### U.K suicide rate from 1985-2015 by age group"
   ]
  },
  {
   "cell_type": "code",
   "execution_count": 28,
   "metadata": {
    "scrolled": true
   },
   "outputs": [],
   "source": [
    "list_ages = list(uk_df['age'].unique())"
   ]
  },
  {
   "cell_type": "code",
   "execution_count": 35,
   "metadata": {},
   "outputs": [
    {
     "data": {
      "image/png": "[encoded data removed]",
      "text/plain": [
       "<Figure size 576x396 with 1 Axes>"
      ]
     },
     "metadata": {},
     "output_type": "display_data"
    }
   ],
   "source": [
    "# get the (suicide per 100,000 population) of the various age groups by year\n",
    "for item in list_ages:\n",
    "    filt = uk_df['age'] == item\n",
    "    grp = uk_df[filt].groupby('year')['suicide_per_100,000_population'].sum()\n",
    "    grp.rename(item)\n",
    "    \n",
    "    axis_x = list(grp.index)\n",
    "    axis_y = list(grp)\n",
    "    \n",
    "#     plotting\n",
    "    plt.style.use('tableau-colorblind10')\n",
    "\n",
    "    plt.plot(axis_x, axis_y, linewidth=2.5, label=item)\n",
    "    \n",
    "plt.title('U.K suicide rate by age group per 100,000 population', fontdict= {'fontsize': 20,\n",
    "            'fontweight' : 10,\n",
    "            'verticalalignment': 'baseline',\n",
    "            'horizontalalignment': 'center'})\n",
    "plt.ylabel('suicide', fontdict= {'fontsize': 17,\n",
    "            'fontweight' : 10,\n",
    "            'verticalalignment': 'baseline',\n",
    "            'horizontalalignment': 'center'})\n",
    "plt.legend(loc='best', bbox_to_anchor=(0.5, 0., 0.7, 1.0))\n",
    "\n",
    "plt.show()\n"
   ]
  },
  {
   "cell_type": "markdown",
   "metadata": {},
   "source": [
    "### U.K population from 1985-2015 by age group"
   ]
  },
  {
   "cell_type": "code",
   "execution_count": 38,
   "metadata": {
    "scrolled": false
   },
   "outputs": [
    {
     "data": {
      "image/png": "[encoded data removed]",
      "text/plain": [
       "<Figure size 576x396 with 1 Axes>"
      ]
     },
     "metadata": {},
     "output_type": "display_data"
    }
   ],
   "source": [
    "# get the (population) of the various age groups by year\n",
    "for item in list_ages:\n",
    "    filt = uk_df['age'] == item\n",
    "    grp = uk_df[filt].groupby('year')['population'].sum()\n",
    "    grp.rename(item)\n",
    "    \n",
    "    axis_x = list(grp.index)\n",
    "    axis_y = list(grp)\n",
    "    \n",
    "#     plotting\n",
    "    plt.style.use('fivethirtyeight')\n",
    "\n",
    "    plt.plot(axis_x, axis_y, linewidth=3, label=item)\n",
    "    \n",
    "plt.title('U.K population by age group', fontdict= {'fontsize': 20,\n",
    "            'fontweight' : 10,\n",
    "            'verticalalignment': 'baseline',\n",
    "            'horizontalalignment': 'center'})\n",
    "plt.ylabel('population (in ten millions)', fontdict= {'fontsize': 17,\n",
    "            'fontweight' : 10,\n",
    "            'verticalalignment': 'baseline',\n",
    "            'horizontalalignment': 'center'})\n",
    "plt.legend(loc='best', bbox_to_anchor=(0.5, 0., 0.7, 1.0))\n",
    "\n",
    "plt.show()\n"
   ]
  },
  {
   "cell_type": "markdown",
   "metadata": {},
   "source": [
    "## Asking questions about the project data\n",
    "1. which gender were more suicidal from 1985-2015 in the uk.\n",
    "2. which age group were more suicidal from 1985-2015 in the uk."
   ]
  },
  {
   "cell_type": "markdown",
   "metadata": {},
   "source": [
    "## Summarize your inferences & write a conclusion\n",
    "1. There are 101 countries in the dataset.\n",
    "2. 372 entries from the United Kingdom.\n",
    "### Inferences from the U.K dataset\n",
    "1. The population of women per year from 1985-2015 was more than that of men.\n",
    "2. From 1985-2015 the suicide rate of men was more than twice that of women.\n",
    "3. The least populated age group from 1985-2015 were the 75+ years while the most populated were 35-54 years.\n",
    "4. People who were 75+ years showed an all time high number of suicides between the timeline.\n",
    "### Conlusion from the U.K dataset\n",
    "1. Men were more suicidal than women from 1985-2015.\n",
    "2. In the mid 80's to the early 90's people who were 75+ years were the most suicidal age group.\n",
    "3. From the early 2000's to 2015 people between the ages of 35-54 were the most suicidal age group."
   ]
  }
 ],
 "metadata": {
  "kernelspec": {
   "display_name": "Python 3",
   "language": "python",
   "name": "python3"
  },
  "language_info": {
   "codemirror_mode": {
    "name": "ipython",
    "version": 3
   },
   "file_extension": ".py",
   "mimetype": "text/x-python",
   "name": "python",
   "nbconvert_exporter": "python",
   "pygments_lexer": "ipython3",
   "version": "3.7.6"
  }
 },
 "nbformat": 4,
 "nbformat_minor": 4
}
